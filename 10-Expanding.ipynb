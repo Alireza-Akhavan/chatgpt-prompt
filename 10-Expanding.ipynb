{
 "cells": [
  {
   "cell_type": "markdown",
   "id": "2aa1697f-a724-409a-9ceb-770380703b4e",
   "metadata": {},
   "source": [
    "# Expanding"
   ]
  },
  {
   "cell_type": "code",
   "execution_count": 1,
   "id": "184238f3-cd12-4b26-98e6-8eccff7d7529",
   "metadata": {},
   "outputs": [],
   "source": [
    "import openai\n",
    "\n",
    "openai.api_key  = \"sk-...\" # you should copy the secret-key here"
   ]
  },
  {
   "cell_type": "code",
   "execution_count": 2,
   "id": "f04a1fd0-4361-48ba-a77f-422ee7aa6c55",
   "metadata": {},
   "outputs": [],
   "source": [
    "def get_completion(prompt, model=\"gpt-3.5-turbo\", temperature=0): \n",
    "    messages = [{\"role\": \"user\", \"content\": prompt}]\n",
    "    response = openai.ChatCompletion.create(\n",
    "        model=model,\n",
    "        messages=messages,\n",
    "        temperature=temperature, \n",
    "    )\n",
    "    return response.choices[0].message[\"content\"]"
   ]
  },
  {
   "cell_type": "markdown",
   "id": "f59ec00e-3680-471f-af97-c3e7fe009e1a",
   "metadata": {},
   "source": [
    "## Customize the automated reply to a customer email"
   ]
  },
  {
   "cell_type": "code",
   "execution_count": 4,
   "id": "2539bf29-ea12-4996-b866-042a47c4a5b3",
   "metadata": {},
   "outputs": [],
   "source": [
    "# given the sentiment from the lesson on \"inferring\",\n",
    "# and the original customer message, customize the email\n",
    "sentiment = \"negative\"\n",
    "\n",
    "review =\"\"\"\n",
    "بنابراین، آنها هنوز هم سیستم 17 قطعه‌ای را در فروش فصلی با تخفیف حدود 49 دلار در ماه نوامبر داشتند،\n",
    " تقریباً نصف قیمت، اما به دلیل افزایش قیمتی، در هفته دوم دسامبر قیمت ها  بین 70 تا 89 دلار برای همان سیستم افزایش یافت.\n",
    " و همچنین سیستم 11 قطعه‌ای نیز در قیمت حدود 10 دلار افزایش یافته است. \n",
    "خبب ممکنه این به نظر مشکلی نباشه، اما اگر به پایه نگاه کنید، قسمتی که تیغه در آن قفل می‌شود،\n",
    " به نظر نمی‌رسد بهتر از نسخه‌های قبلی چند سال پیش شده باشد!\n",
    " من قصد دارم با این دستگاه بسیار ملایم باشم (مثال: من اول اشیای سخت مانند لوبیا، یخ و برنج را در مخلوط کن ابتدا خرد می‌کنم، \n",
    "سپس آنها را در اندازه سرویسی که می‌خواهم در مخلوط کن خرد می‌کنم، \n",
    "سپس به تیغه های تخمیر کننده برای تهیه آردی با دانه های کوچکتر و با تیغه های برش متقاطع برای تهیه اسموتی استفاده می‌کنم، \n",
    "سپس اگر نیاز به آنها با دانه های کوچکتر / کمتر پالپی داشته باشم از تیغه صاف استفاده می‌کنم).\n",
    " نکته ویژه در هنگام تهیه اسموتی، میوه ها و سبزیجات را به صورت خیلی ریز خرد کرده و یخ بزنید \n",
    "(اگر از اسفناج استفاده می‌کنید، آن را به طور خفیف پخته و نرم کنید، سپس آن را تا زمان استفاده یخ بزنید - و اگر سوربه تهیه می‌کنید، از یک فرآورده غذایی کوچک تا متوسط ​​استفاده کنید)، \n",
    "به این شکل می‌توانید از اضافه کردن بسیاری از یخ در اسموتی خود جلوگیری کنید.\n",
    " بعد از حدود یک سال، موتور صدای عجیبی می‌دهد. \n",
    "من با خدمات مشتری تماس گرفتم اما گارانتی قبلاً منقضی شده بود، \n",
    "بنابراین مجبور به خرید دوباره بودم. \n",
    "اطلاعات بیشتر: کیفیت کلی این نوع محصولات کاهش یافته است،\n",
    " بنابراین آنها به شناخت برند و وفاداری مشتریان برای حفظ فروش شان حساب می‌کنند.\n",
    " من آن را در حدود دو روز دریافت کردم.\n",
    "\"\"\""
   ]
  },
  {
   "cell_type": "code",
   "execution_count": 8,
   "id": "7e7b3c0b-300d-4664-916d-ca499ddd4c50",
   "metadata": {},
   "outputs": [
    {
     "name": "stdout",
     "output_type": "stream",
     "text": [
      "با سلام و احترام،\n",
      "\n",
      "از اینکه نظر خود را با ما به اشتراک گذاشتید، سپاسگزاریم. متأسفانه، از مشکلی که با دستگاه خودتان داشتید، خبر دادید. ما به شما پوزش می‌گوییم که تجربه‌ی خوبی را نداشتید. لطفاً با تیم خدمات مشتری تماس بگیرید تا بتوانند به شما کمک کنند. \n",
      "\n",
      "در مورد نکاتی که در نظر خود ذکر کردید، ما به آنها توجه خواهیم کرد تا بتوانیم بهبودی در کیفیت محصولاتمان ایجاد کنیم. \n",
      "\n",
      "باز هم از اینکه نظر خود را با ما به اشتراک گذاشتید، سپاسگزاریم. \n",
      "\n",
      "دستیار هوشمند\n"
     ]
    }
   ],
   "source": [
    "prompt = f\"\"\"\n",
    "You are a customer service AI assistant.\n",
    "Your task is to send an email reply to a valued customer.\n",
    "Given the customer email delimited by ```, \\\n",
    "Generate a reply to thank the customer for their review.\n",
    "If the sentiment is positive or neutral, thank them for \\\n",
    "their review.\n",
    "If the sentiment is negative, apologize and suggest that \\\n",
    "they can reach out to customer service. \n",
    "Write in a concise and professional tone.\n",
    "Sign the email as `دستیار هوشمند`.\n",
    "The email must be in Persian.\n",
    "Make sure to use specific details from the review.\n",
    "Customer review: ```{review}```\n",
    "Review sentiment: {sentiment}\n",
    "\"\"\"\n",
    "response = get_completion(prompt)\n",
    "print(response)"
   ]
  },
  {
   "cell_type": "code",
   "execution_count": 9,
   "id": "2deadff2-4767-4bba-ae3b-c30f1d2421f4",
   "metadata": {},
   "outputs": [],
   "source": [
    "# given the sentiment from the lesson on \"inferring\",\n",
    "# and the original customer message, customize the email\n",
    "sentiment = \"negative\"\n",
    "\n",
    "# review for a blender\n",
    "review = f\"\"\"\n",
    "So, they still had the 17 piece system on seasonal \\\n",
    "sale for around $49 in the month of November, about \\\n",
    "half off, but for some reason (call it price gouging) \\\n",
    "around the second week of December the prices all went \\\n",
    "up to about anywhere from between $70-$89 for the same \\\n",
    "system. And the 11 piece system went up around $10 or \\\n",
    "so in price also from the earlier sale price of $29. \\\n",
    "So it looks okay, but if you look at the base, the part \\\n",
    "where the blade locks into place doesn’t look as good \\\n",
    "as in previous editions from a few years ago, but I \\\n",
    "plan to be very gentle with it (example, I crush \\\n",
    "very hard items like beans, ice, rice, etc. in the \\ \n",
    "blender first then pulverize them in the serving size \\\n",
    "I want in the blender then switch to the whipping \\\n",
    "blade for a finer flour, and use the cross cutting blade \\\n",
    "first when making smoothies, then use the flat blade \\\n",
    "if I need them finer/less pulpy). Special tip when making \\\n",
    "smoothies, finely cut and freeze the fruits and \\\n",
    "vegetables (if using spinach-lightly stew soften the \\ \n",
    "spinach then freeze until ready for use-and if making \\\n",
    "sorbet, use a small to medium sized food processor) \\ \n",
    "that you plan to use that way you can avoid adding so \\\n",
    "much ice if at all-when making your smoothie. \\\n",
    "After about a year, the motor was making a funny noise. \\\n",
    "I called customer service but the warranty expired \\\n",
    "already, so I had to buy another one. FYI: The overall \\\n",
    "quality has gone done in these types of products, so \\\n",
    "they are kind of counting on brand recognition and \\\n",
    "consumer loyalty to maintain sales. Got it in about \\\n",
    "two days.\n",
    "\"\"\""
   ]
  },
  {
   "cell_type": "code",
   "execution_count": 10,
   "id": "94a269dc-ea3e-460a-8a9c-4f84e9f08042",
   "metadata": {},
   "outputs": [
    {
     "name": "stdout",
     "output_type": "stream",
     "text": [
      "Dear Valued Customer,\n",
      "\n",
      "Thank you for taking the time to leave a review about our product. We are sorry to hear that you experienced an increase in price and that the quality of the product did not meet your expectations. We apologize for any inconvenience this may have caused you.\n",
      "\n",
      "We would like to assure you that we take all feedback seriously and we will be sure to pass your comments along to our team. If you have any further concerns, please do not hesitate to reach out to our customer service team for assistance.\n",
      "\n",
      "Thank you again for your review and for choosing our product. We hope to have the opportunity to serve you better in the future.\n",
      "\n",
      "Best regards,\n",
      "\n",
      "AI customer agent\n"
     ]
    }
   ],
   "source": [
    "prompt = f\"\"\"\n",
    "You are a customer service AI assistant.\n",
    "Your task is to send an email reply to a valued customer.\n",
    "Given the customer email delimited by ```, \\\n",
    "Generate a reply to thank the customer for their review.\n",
    "If the sentiment is positive or neutral, thank them for \\\n",
    "their review.\n",
    "If the sentiment is negative, apologize and suggest that \\\n",
    "they can reach out to customer service. \n",
    "Make sure to use specific details from the review.\n",
    "Write in a concise and professional tone.\n",
    "Sign the email as `AI customer agent`.\n",
    "Customer review: ```{review}```\n",
    "Review sentiment: {sentiment}\n",
    "\"\"\"\n",
    "response = get_completion(prompt)\n",
    "print(response)"
   ]
  },
  {
   "cell_type": "markdown",
   "id": "644f40dc-1b67-47f4-a695-091208e0be5b",
   "metadata": {},
   "source": [
    "### Now change temperature..."
   ]
  }
 ],
 "metadata": {
  "kernelspec": {
   "display_name": "Python 3 (ipykernel)",
   "language": "python",
   "name": "python3"
  },
  "language_info": {
   "codemirror_mode": {
    "name": "ipython",
    "version": 3
   },
   "file_extension": ".py",
   "mimetype": "text/x-python",
   "name": "python",
   "nbconvert_exporter": "python",
   "pygments_lexer": "ipython3",
   "version": "3.8.10"
  }
 },
 "nbformat": 4,
 "nbformat_minor": 5
}
