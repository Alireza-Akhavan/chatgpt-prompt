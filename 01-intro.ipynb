{
 "cells": [
  {
   "cell_type": "markdown",
   "id": "2aa1697f-a724-409a-9ceb-770380703b4e",
   "metadata": {},
   "source": [
    "# How to use **Open AI** GPT API"
   ]
  },
  {
   "cell_type": "code",
   "execution_count": 1,
   "id": "184238f3-cd12-4b26-98e6-8eccff7d7529",
   "metadata": {},
   "outputs": [],
   "source": [
    "import openai\n",
    "\n",
    "openai.api_key  = \"sk-...\" # you should copy the secret-key here"
   ]
  },
  {
   "cell_type": "code",
   "execution_count": 2,
   "id": "f04a1fd0-4361-48ba-a77f-422ee7aa6c55",
   "metadata": {},
   "outputs": [],
   "source": [
    "def get_completion(prompt, model=\"gpt-3.5-turbo\", temperature=0): \n",
    "    messages = [{\"role\": \"user\", \"content\": prompt}]\n",
    "    response = openai.ChatCompletion.create(\n",
    "        model=model,\n",
    "        messages=messages,\n",
    "        temperature=temperature, \n",
    "    )\n",
    "    return response.choices[0].message[\"content\"]"
   ]
  },
  {
   "cell_type": "code",
   "execution_count": 3,
   "id": "ed9c3701-ecb6-4b23-8385-2198996213b2",
   "metadata": {},
   "outputs": [
    {
     "name": "stdout",
     "output_type": "stream",
     "text": [
      "The capital of Iran is Tehran.\n"
     ]
    }
   ],
   "source": [
    "prompt = f\"\"\"\n",
    "what is the capital of Iran?\n",
    "\"\"\"\n",
    "response = get_completion(prompt)\n",
    "print(response)"
   ]
  },
  {
   "cell_type": "code",
   "execution_count": 4,
   "id": "9175e212-e82d-406b-baa3-6fcccf084565",
   "metadata": {},
   "outputs": [
    {
     "name": "stdout",
     "output_type": "stream",
     "text": [
      "پایتخت ایران تهران است.\n"
     ]
    }
   ],
   "source": [
    "prompt = f\"\"\"\n",
    "پایتخت ایران کجاست؟\n",
    "\"\"\"\n",
    "response = get_completion(prompt)\n",
    "print(response)"
   ]
  }
 ],
 "metadata": {
  "kernelspec": {
   "display_name": "Python 3 (ipykernel)",
   "language": "python",
   "name": "python3"
  },
  "language_info": {
   "codemirror_mode": {
    "name": "ipython",
    "version": 3
   },
   "file_extension": ".py",
   "mimetype": "text/x-python",
   "name": "python",
   "nbconvert_exporter": "python",
   "pygments_lexer": "ipython3",
   "version": "3.8.10"
  }
 },
 "nbformat": 4,
 "nbformat_minor": 5
}
