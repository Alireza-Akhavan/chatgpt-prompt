{
 "cells": [
  {
   "cell_type": "markdown",
   "id": "87759a37-1e62-4d96-912a-57d33a0f5346",
   "metadata": {},
   "source": [
    "## Model Limitations: Hallucinations\n"
   ]
  },
  {
   "cell_type": "code",
   "execution_count": 1,
   "id": "9a207781-a4e5-40ab-acdf-309f4a12a6bd",
   "metadata": {},
   "outputs": [],
   "source": [
    "import openai\n",
    "\n",
    "openai.api_key  = \"sk-...\" # you should copy the secret-key here"
   ]
  },
  {
   "cell_type": "code",
   "execution_count": 2,
   "id": "22f59d1d-582b-4e25-8aad-e6f017ef938c",
   "metadata": {},
   "outputs": [],
   "source": [
    "def get_completion(prompt, model=\"gpt-3.5-turbo\", temperature=0): \n",
    "    messages = [{\"role\": \"user\", \"content\": prompt}]\n",
    "    response = openai.ChatCompletion.create(\n",
    "        model=model,\n",
    "        messages=messages,\n",
    "        temperature=temperature, \n",
    "    )\n",
    "    return response.choices[0].message[\"content\"]"
   ]
  },
  {
   "cell_type": "code",
   "execution_count": 22,
   "id": "133e03db-0b25-477f-8675-473c7897825f",
   "metadata": {},
   "outputs": [
    {
     "name": "stdout",
     "output_type": "stream",
     "text": [
      "مسواک های برقی شرکت سایپا با نام تجاری \"پارس مسواک\" عرضه می شوند. این محصولات دارای قابلیت شارژ و استفاده مجدد هستند و با دو حالت تمیز کردن دندان ها (نرم و سخت) عرضه می شوند. همچنین، این مسواک ها دارای سری های مختلفی هستند که برای نیازهای مختلف کاربران مناسب هستند. قیمت این محصولات نیز در محدوده قیمت های مسواک های برقی معمولی قرار دارد.\n"
     ]
    }
   ],
   "source": [
    "prompt = f\"\"\"\n",
    "در مورد مسواک های برقی شرکت سایپا بهم اطلاعات بده.\n",
    "\"\"\"\n",
    "response = get_completion(prompt)\n",
    "print(response)"
   ]
  },
  {
   "cell_type": "code",
   "execution_count": 23,
   "id": "632f3dce-3116-4a4f-83e0-c77ac5284387",
   "metadata": {},
   "outputs": [
    {
     "name": "stdout",
     "output_type": "stream",
     "text": [
      "شرکت ایران خودرو در حال حاضر دو مدل موبایل با نام‌های \"پراید\" و \"دنا\" را تولید می‌کند. این دو مدل از نظر ظاهری شباهت زیادی به خودروهای همین شرکت دارند و با قیمتی مناسب در بازار عرضه می‌شوند. همچنین، این موبایل‌ها از سیستم عامل اندروید استفاده می‌کنند و با قابلیت‌هایی مانند دوربین، صفحه نمایش لمسی، اتصال به اینترنت و... مجهز شده‌اند. با این حال، این موبایل‌ها در مقایسه با برندهای معروف جهانی، از نظر کیفیت و عملکرد بهترین گزینه نیستند.\n"
     ]
    }
   ],
   "source": [
    "prompt = f\"\"\"\n",
    "در مورد موبایل های شرکت ایران خودرو بهم اطلاعاتی بده.\n",
    "\"\"\"\n",
    "response = get_completion(prompt)\n",
    "print(response)"
   ]
  },
  {
   "cell_type": "code",
   "execution_count": 26,
   "id": "f564b98f-d5b5-4ec2-b5b9-0452052cb048",
   "metadata": {},
   "outputs": [
    {
     "name": "stdout",
     "output_type": "stream",
     "text": [
      "ببخشید، نمی دانم. به عنوان یک هوش مصنوعی، من تنها اطلاعاتی را دارم که در دسترس من قرار داده شده است و اطلاعاتی در مورد موبایل های شرکت ایران خودرو در دسترس من نیست.\n"
     ]
    }
   ],
   "source": [
    "prompt = f\"\"\"\n",
    "به سوال تا حد امکان صادقانه پاسخ بده و اگر از پاسخ مطمئن نیستید، بگو :\n",
    "\"ببخشید، نمی دانم.\"\n",
    "سوال:\n",
    "در مورد موبایل های شرکت ایران خودرو بهم اطلاعاتی بده.\n",
    "پاسخ:\n",
    "\n",
    "\"\"\"\n",
    "response = get_completion(prompt)\n",
    "print(response)"
   ]
  },
  {
   "cell_type": "code",
   "execution_count": 27,
   "id": "051d594a-b6c1-4383-96e6-b6b6743e43fb",
   "metadata": {},
   "outputs": [
    {
     "name": "stdout",
     "output_type": "stream",
     "text": [
      "شرکت سامسونگ یکی از بزرگترین تولیدکنندگان موبایل در جهان است و محصولات متنوعی از جمله گوشی های هوشمند، تبلت ها و ساعت های هوشمند را تولید می کند. برخی از محصولات معروف این شرکت شامل گلکسی S و Note و A و J و M و Z می باشند. همچنین، سامسونگ در حال حاضر به دنبال توسعه تکنولوژی های جدیدی مانند تلفن های همراه قابل انعطاف و 5G است. اما برای اطلاعات دقیق تر، بهتر است به وب سایت رسمی شرکت سامسونگ مراجعه کنید. ببخشید، در مورد جزئیات بیشتری نمی دانم.\n"
     ]
    }
   ],
   "source": [
    "prompt = f\"\"\"\n",
    "به سوال تا حد امکان صادقانه پاسخ بده و اگر از پاسخ مطمئن نیستید، بگو :\n",
    "\"ببخشید، نمی دانم.\"\n",
    "سوال:\n",
    "در مورد موبایل های شرکت سامسونگ بهم اطلاعاتی بده.\n",
    "پاسخ:\n",
    "\n",
    "\"\"\"\n",
    "response = get_completion(prompt)\n",
    "print(response)"
   ]
  },
  {
   "cell_type": "code",
   "execution_count": null,
   "id": "afe5b3ae-483a-41ad-bda2-09a2966c40c3",
   "metadata": {},
   "outputs": [],
   "source": []
  }
 ],
 "metadata": {
  "kernelspec": {
   "display_name": "Python 3 (ipykernel)",
   "language": "python",
   "name": "python3"
  },
  "language_info": {
   "codemirror_mode": {
    "name": "ipython",
    "version": 3
   },
   "file_extension": ".py",
   "mimetype": "text/x-python",
   "name": "python",
   "nbconvert_exporter": "python",
   "pygments_lexer": "ipython3",
   "version": "3.8.10"
  }
 },
 "nbformat": 4,
 "nbformat_minor": 5
}
