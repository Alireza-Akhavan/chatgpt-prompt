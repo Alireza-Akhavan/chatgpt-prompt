{
 "cells": [
  {
   "cell_type": "markdown",
   "id": "87759a37-1e62-4d96-912a-57d33a0f5346",
   "metadata": {},
   "source": [
    "# Topic modeling and keyword extraction\n"
   ]
  },
  {
   "cell_type": "code",
   "execution_count": 1,
   "id": "9a207781-a4e5-40ab-acdf-309f4a12a6bd",
   "metadata": {},
   "outputs": [],
   "source": [
    "import openai\n",
    "\n",
    "openai.api_key  = \"sk-...\" # you should copy the secret-key here"
   ]
  },
  {
   "cell_type": "code",
   "execution_count": 2,
   "id": "22f59d1d-582b-4e25-8aad-e6f017ef938c",
   "metadata": {},
   "outputs": [],
   "source": [
    "def get_completion(prompt, model=\"gpt-3.5-turbo\", temperature=0): \n",
    "    messages = [{\"role\": \"user\", \"content\": prompt}]\n",
    "    response = openai.ChatCompletion.create(\n",
    "        model=model,\n",
    "        messages=messages,\n",
    "        temperature=temperature, \n",
    "    )\n",
    "    return response.choices[0].message[\"content\"]"
   ]
  },
  {
   "cell_type": "markdown",
   "id": "6b54dcc0-bed7-4774-97cb-2ad4fe06e23f",
   "metadata": {},
   "source": [
    "## Keyword extraction"
   ]
  },
  {
   "cell_type": "code",
   "execution_count": 3,
   "id": "99d38543-dffc-44d2-8b1c-8ff4071c22b0",
   "metadata": {},
   "outputs": [
    {
     "name": "stdout",
     "output_type": "stream",
     "text": [
      "علی دایی، بازیکن، بازنشسته، مربی، فوتبال، ایران، رده باشگاهی، لیگ ایران، لیگ‌های قطر، آلمان، امارات، گل، بازی ملی، تیم ملی فوتبال ایران، نظرسنجی، سایت کنفدراسیون فوتبال آسیا، برنامهٔ تلویزیونی ۹۰، مهاجم، جام ملت‌های آسیا، انقلاب ۱۳۵۷، رکورد، باشگاه سایپا، سرمربی.\n"
     ]
    }
   ],
   "source": [
    "p = \"\"\"\n",
    "علی دایی (زادهٔ ۱۴ بهمن ۱۳۴۸)[الف] بازیکن بازنشسته و مربی فوتبال اهل ایران است.[۲] دایی در رده باشگاهی، علاوه بر بازی در لیگ ایران؛ سابقه حضور در لیگ‌های قطر، آلمان و امارات را نیز داشته است.[۳]\n",
    "\n",
    "دایی با زدن ۱۰۹ گل در ۱۴۹ بازی ملی، بهترین گلزن تاریخ تیم ملی فوتبال ایران شناخته می‌شود.[۴] او در نظرسنجی سایت کنفدراسیون فوتبال آسیا و برنامهٔ تلویزیونی ۹۰ به ترتیب با کسب «۵۹ درصد»[۵] و «۷۳ درصد» آراء مخاطبین، به عنوان بهترین مهاجم تاریخ جام ملت‌های آسیا[۶] و بهترین مهاجم بعد از انقلاب ۱۳۵۷ در ایران انتخاب شد.‏[۷][۸] دایی با ثبت ۱۴ گل، رکورد بیشترین گلزنی در تمام ادوار جام ملت‌های آسیا را در اختیار دارد.\n",
    "\n",
    "دایی در سال ۱۳۸۵ به عنوان بازیکن-مربی باشگاه سایپا، پا به عرصه مربیگری گذاشت. او در اسفند ۱۳۸۶ نیز به عنوان سرمربی تیم ملی فوتبال ایران انتخاب شد. \"\"\"\n",
    "\n",
    "\n",
    "prompt = f\"\"\"\n",
    "Your task is to extract all keywords.\n",
    "Original paragraph: ```{p}```\n",
    "\"\"\"\n",
    "response = get_completion(prompt)\n",
    "print(response)"
   ]
  },
  {
   "cell_type": "markdown",
   "id": "9f3dbb70-e80b-47f7-abf3-89993c92dcff",
   "metadata": {},
   "source": [
    "## Infer 5 topics\n",
    "what is [topic modeling](https://class.vision/blog/topic-modeling/)"
   ]
  },
  {
   "cell_type": "code",
   "execution_count": 5,
   "id": "298e173c-48f7-4ce3-9ba9-b8f1982068a6",
   "metadata": {},
   "outputs": [
    {
     "name": "stdout",
     "output_type": "stream",
     "text": [
      "علی دایی، بازیکن، مربی، فوتبال، گلزنی.\n"
     ]
    }
   ],
   "source": [
    "prompt = f\"\"\"\n",
    "Determine five topics that are being discussed in the \\\n",
    "following text, which is delimited by triple backticks.\n",
    "\n",
    "Make each item one or two words long. \n",
    "\n",
    "Format your response as a list of items separated by commas.\n",
    "\n",
    "All items should be in Persian.\n",
    "\n",
    "Text sample: '''{p}'''\n",
    "\"\"\"\n",
    "response = get_completion(prompt)\n",
    "print(response)"
   ]
  },
  {
   "cell_type": "markdown",
   "id": "20b9b9ec-4bf8-4fb3-bfa9-878ddf0a7b4c",
   "metadata": {},
   "source": [
    "## Zero-shot Classification"
   ]
  },
  {
   "cell_type": "code",
   "execution_count": 7,
   "id": "1039046a-fb39-4711-a15e-513b0402cab6",
   "metadata": {},
   "outputs": [],
   "source": [
    "topic_list = [\"سیاست\",\"مهندسی\",\"فرهنگ و هنر\",\"ورزشی\",\"تاریخ\",\"دین\"]"
   ]
  },
  {
   "cell_type": "code",
   "execution_count": 8,
   "id": "9b6b4216-9293-40e0-8e05-4568992f90a6",
   "metadata": {},
   "outputs": [
    {
     "name": "stdout",
     "output_type": "stream",
     "text": [
      "سیاست: 0\n",
      "مهندسی: 0\n",
      "فرهنگ و هنر: 0\n",
      "ورزشی: 1\n",
      "تاریخ: 1\n",
      "دین: 0\n"
     ]
    }
   ],
   "source": [
    "prompt = f\"\"\"\n",
    "Determine whether each item in the following list of \\\n",
    "topics is a topic in the text below, which\n",
    "is delimited with triple backticks.\n",
    "\n",
    "Give your answer as list with 0 or 1 for each topic.\\\n",
    "\n",
    "List of topics: {\", \".join(topic_list)}\n",
    "\n",
    "Text sample: '''{p}'''\n",
    "\"\"\"\n",
    "response = get_completion(prompt)\n",
    "print(response)"
   ]
  },
  {
   "cell_type": "code",
   "execution_count": 9,
   "id": "c0b73489-6dc9-4216-bda5-41494d284575",
   "metadata": {},
   "outputs": [],
   "source": [
    "topic_list = [\"politics\",\"engineering\",\"culture and art\",\"sports\",\"history\",\"religion\"]"
   ]
  },
  {
   "cell_type": "code",
   "execution_count": 10,
   "id": "f66319a4-8f84-4cbb-bf8b-9a91036fe56e",
   "metadata": {},
   "outputs": [
    {
     "name": "stdout",
     "output_type": "stream",
     "text": [
      "politics: 0\n",
      "engineering: 0\n",
      "culture and art: 0\n",
      "sports: 1\n",
      "history: 0\n",
      "religion: 0\n"
     ]
    }
   ],
   "source": [
    "prompt = f\"\"\"\n",
    "Determine whether each item in the following list of \\\n",
    "topics is a topic in the text below, which\n",
    "is delimited with triple backticks.\n",
    "\n",
    "Give your answer as list with 0 or 1 for each topic.\\\n",
    "\n",
    "List of topics: {\", \".join(topic_list)}\n",
    "\n",
    "Text sample: '''{p}'''\n",
    "\"\"\"\n",
    "response = get_completion(prompt)\n",
    "print(response)"
   ]
  },
  {
   "cell_type": "code",
   "execution_count": 12,
   "id": "ace559a3-440f-4cc1-b776-ae997d4588bf",
   "metadata": {},
   "outputs": [],
   "source": [
    "p =\"\"\"\n",
    "سید ابراهیم رئیس‌الساداتی (زادهٔ ۲۳ آذر ۱۳۳۹) سیاستمدار اصول‌گرا، فقیه مسلمان و قاضی ایرانی است که از سال ۱۴۰۰ به‌عنوان هشتمین رئیس‌جمهور ایران مشغول به کار است.[۱۰] او همچنین نایب‌رئیس اول مجلس خبرگان رهبری[۱۱]و از سال ۱۳۹۱، دادستان کل ویژه روحانیت است.[۱۲][۱۳] \n",
    "\"\"\"\n",
    "#https://fa.wikipedia.org/wiki/%D8%B3%DB%8C%D8%AF_%D8%A7%D8%A8%D8%B1%D8%A7%D9%87%DB%8C%D9%85_%D8%B1%D8%A6%DB%8C%D8%B3%DB%8C"
   ]
  },
  {
   "cell_type": "code",
   "execution_count": 13,
   "id": "9785dbfe-c289-45a2-9bdb-152cf8c5b7d0",
   "metadata": {},
   "outputs": [
    {
     "name": "stdout",
     "output_type": "stream",
     "text": [
      "politics: 1\n",
      "engineering: 0\n",
      "culture and art: 0\n",
      "sports: 0\n",
      "history: 0\n",
      "religion: 1\n"
     ]
    }
   ],
   "source": [
    "prompt = f\"\"\"\n",
    "Determine whether each item in the following list of \\\n",
    "topics is a topic in the text below, which\n",
    "is delimited with triple backticks.\n",
    "\n",
    "Give your answer as list with 0 or 1 for each topic.\\\n",
    "\n",
    "List of topics: {\", \".join(topic_list)}\n",
    "\n",
    "Text sample: '''{p}'''\n",
    "\"\"\"\n",
    "response = get_completion(prompt)\n",
    "print(response)"
   ]
  }
 ],
 "metadata": {
  "kernelspec": {
   "display_name": "Python 3 (ipykernel)",
   "language": "python",
   "name": "python3"
  },
  "language_info": {
   "codemirror_mode": {
    "name": "ipython",
    "version": 3
   },
   "file_extension": ".py",
   "mimetype": "text/x-python",
   "name": "python",
   "nbconvert_exporter": "python",
   "pygments_lexer": "ipython3",
   "version": "3.8.10"
  }
 },
 "nbformat": 4,
 "nbformat_minor": 5
}
