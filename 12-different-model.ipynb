{
 "cells": [
  {
   "cell_type": "code",
   "execution_count": 1,
   "id": "184238f3-cd12-4b26-98e6-8eccff7d7529",
   "metadata": {},
   "outputs": [],
   "source": [
    "import openai\n",
    "\n",
    "openai.api_key  = \"sk-...\" # you should copy the secret-key here"
   ]
  },
  {
   "cell_type": "code",
   "execution_count": null,
   "id": "72caaf66-9c36-434e-966b-da0a9311cef1",
   "metadata": {},
   "outputs": [],
   "source": [
    "def get_completion(prompt, model=\"gpt-3.5-turbo\", temperature=0): \n",
    "    messages = [{\"role\": \"user\", \"content\": prompt}]\n",
    "    response = openai.ChatCompletion.create(\n",
    "        model=model,\n",
    "        messages=messages,\n",
    "        temperature=temperature, \n",
    "    )\n",
    "    return response.choices[0].message[\"content\"]"
   ]
  },
  {
   "cell_type": "code",
   "execution_count": null,
   "id": "d7fb639b-b088-41ec-a71d-637f5195de06",
   "metadata": {},
   "outputs": [],
   "source": [
    "def get_completion2(prompt, model=\"text-davinci-003\", temperature=0): \n",
    "        #https://platform.openai.com/docs/models/gpt-3-5\n",
    "        response = openai.Completion.create(\n",
    "        model=\"text-davinci-003\",\n",
    "        prompt=prompt,\n",
    "        temperature=temperature,\n",
    "        max_tokens=3500,\n",
    "        top_p=1.0,\n",
    "    )\n",
    "    return response[\"choices\"][0][\"text\"]"
   ]
  },
  {
   "cell_type": "code",
   "execution_count": null,
   "id": "8442d8c7-4162-4e8a-bac6-a689bef8587e",
   "metadata": {},
   "outputs": [],
   "source": [
    "text= \"\"\"\n",
    "Increasingly, artificial neural networks are recognised as providing the architecture for the next step in machine learning. These networks are designed to mirror the functionality of the human brain and nervous system. A web of connected nodes act as artificial neurons, and deep learning techniques are used to create models which can make non-linear decisions. However, the majority of models are designed to process euclidean input data, with a grid-like structure over one or two dimensional domains. This includes common representations of file types like images or text. But there is non-euclidean data that might exist over three dimensions, such as maps of networks or molecules. Valuable information will be lost if this data is converted to euclidean data structure.\n",
    "\"\"\""
   ]
  },
  {
   "cell_type": "code",
   "execution_count": null,
   "id": "9362ef03-4b64-446d-816d-2c74c5aadf3b",
   "metadata": {},
   "outputs": [],
   "source": [
    "prompt = f\"\"\"\n",
    "Translate the following  text to formal Persian: \\\n",
    "Text = ```{text}```\n",
    "\"\"\"\n",
    "response = get_completion(prompt)\n",
    "print(response)"
   ]
  }
 ],
 "metadata": {
  "kernelspec": {
   "display_name": "Python 3 (ipykernel)",
   "language": "python",
   "name": "python3"
  },
  "language_info": {
   "codemirror_mode": {
    "name": "ipython",
    "version": 3
   },
   "file_extension": ".py",
   "mimetype": "text/x-python",
   "name": "python",
   "nbconvert_exporter": "python",
   "pygments_lexer": "ipython3",
   "version": "3.8.10"
  }
 },
 "nbformat": 4,
 "nbformat_minor": 5
}
