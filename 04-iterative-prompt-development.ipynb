{
 "cells": [
  {
   "cell_type": "markdown",
   "id": "87759a37-1e62-4d96-912a-57d33a0f5346",
   "metadata": {},
   "source": [
    "# Iterative Prompt Develelopment\n"
   ]
  },
  {
   "cell_type": "code",
   "execution_count": 2,
   "id": "9a207781-a4e5-40ab-acdf-309f4a12a6bd",
   "metadata": {},
   "outputs": [],
   "source": [
    "import openai\n",
    "\n",
    "openai.api_key  = \"sk-...\" # you should copy the secret-key here"
   ]
  },
  {
   "cell_type": "code",
   "execution_count": 3,
   "id": "22f59d1d-582b-4e25-8aad-e6f017ef938c",
   "metadata": {},
   "outputs": [],
   "source": [
    "def get_completion(prompt, model=\"gpt-3.5-turbo\", temperature=0): \n",
    "    messages = [{\"role\": \"user\", \"content\": prompt}]\n",
    "    response = openai.ChatCompletion.create(\n",
    "        model=model,\n",
    "        messages=messages,\n",
    "        temperature=temperature, \n",
    "    )\n",
    "    return response.choices[0].message[\"content\"]"
   ]
  },
  {
   "cell_type": "code",
   "execution_count": 4,
   "id": "87d95ac0-cca3-4692-b1be-2e19ec62c372",
   "metadata": {},
   "outputs": [],
   "source": [
    "text = \"\"\"\n",
    "دستگاه تصفیه هوا هوشمند شیائومی Smart Air Purifier 4 Pro\n",
    "\n",
    "دستگاه تصفیه هوای هوشمند شیائومی 4 پرو طراحی مینیمال و مدرنی دارد و به لطف سیستم فیلتر مخصوص شیائومی و عملکرد 360 درجه، هوای محیط را در زمانی کوتاه تصفیه می‌کند. نمایشگر، وای‌فای داخلی، اتصال به اپلیکیشن، عمر مفید 12 ماهه فیلتر و تنظیم سرعت خودکار تصفیه هوا از ویژگی‌های مثبت دستگاه است.  شیائومی در جدیدترین دستگاه تصفیه کننده هوای خود از طراحی مینیمال و فرم فاکتور مکعب مستطیلی آشنا استفاده کرده است. این دستگاه که با عنوان Smart Air Purifier 4 Pro به بازار عرضه شده است از رنگ سفید بهره می‌برد که در قسمت جلویی دریچه ورودی هوا به همراه نمایشگر دایره‌ای کوچک، ظاهری جذاب و مدرن به محصول داده است. بدنه دستگاه از پلاستیک ABS ساخته شده است که به مرور زمان تغییر رنگ نمی‌دهد و در برابر ضربه و خراش مقاومت رضایت بخشی دارد. ابعاد محصول 275 در 275 در 680 میلی‌متر و وزن آن معادل 6.8 کیلوگرم است. فرم فاکتور مناسب دستگاه باعث می‌شود تا به راحتی بتوان آن را کنار میز تلویزیون پشت مبل‌ها و بر روی سطوح مختلف مانند کانتر آشپزخانه قرار داد.\n",
    "\n",
    "مشخصات\n",
    "\n",
    ":سایر توضیحات\n",
    "\n",
    "حجم هوای خروجی ۵۰۰ متر مکعب بر ساعت ۱۵ دقیقه تصفیه برای یک اتاق نشیمن تقریباً ۴۰ متر مربع ۶۰ متر مربع منطقه تحت پوشش عمر فیلتر ۶ تا ۱۲ ماه ۹۹.۹۷% فیلتراسیون ذرات ۰.۳μm ۶۵۰۰۰۰ میلی گرم کربن فعال با کیفیت بالا سنسور دوگانه فعال قابلیت کنترل و اتصال Mi Home/Xiaomi Home App + AI voice بلندی صدا ۳۳.۷ دسی بل\n",
    "\n",
    ":وزن\n",
    "\n",
    "۶۰۰۰ گرم\n",
    "\n",
    "فیلترها\n",
    "\n",
    ":فیلتر اولیه\n",
    "\n",
    "فیلتر هپا\n",
    "\n",
    "کربن فعال\n",
    "\n",
    ":محدوده مساحت تحت پوشش\n",
    "\n",
    "بین ۵۶.۱ تا ۶۴ متر‌مربع\n",
    "\n",
    ":محدوده وزنی\n",
    "\n",
    "بین ۴ تا ۷ کیلوگرم \n",
    "\"\"\"\n"
   ]
  },
  {
   "cell_type": "code",
   "execution_count": 5,
   "id": "632f3dce-3116-4a4f-83e0-c77ac5284387",
   "metadata": {},
   "outputs": [
    {
     "name": "stdout",
     "output_type": "stream",
     "text": [
      "دستگاه تصفیه هوا هوشمند شیائومی Smart Air Purifier 4 Pro با طراحی مینیمال و مدرن، با سیستم فیلتر مخصوص شیائومی و عملکرد 360 درجه، هوای محیط را در زمانی کوتاه تصفیه می‌کند. این دستگاه دارای نمایشگر، وای‌فای داخلی، اتصال به اپلیکیشن، عمر مفید 12 ماهه فیلتر و تنظیم سرعت خودکار تصفیه هوا است. با حجم خروجی ۵۰۰ متر مکعب بر ساعت و توانایی تصفیه هوا برای یک اتاق نشیمن تقریباً ۴۰ متر مربع تا ۶۰ متر مربع، این دستگاه می‌تواند هوای محیط را به طور کامل تصفیه کند. فیلترهای این دستگاه شامل فیلتر اولیه، فیلتر هپا و کربن فعال می‌باشد و محدوده مساحت تحت پوشش بین ۵۶.۱ تا ۶۴ متر‌مربع و محدوده وزنی بین ۴ تا ۷ کیلوگرم است. با قابلیت کنترل و اتصال به اپلیکیشن Mi Home/Xiaomi Home App + AI voice و بلندی صدای ۳۳.۷ دسی‌بل، دستگاه تصفیه هوا هوشمند شیائومی Smart Air Purifier 4 Pro یکی از بهترین گزینه‌ها برای تصفیه هوای محیط است.\n"
     ]
    }
   ],
   "source": [
    "prompt = f\"\"\"\n",
    "Your task is to help a marketing team create a \n",
    "description for a retail website of a product based \n",
    "on a technical fact sheet.\n",
    "\n",
    "Write a product description in Persian based on the information \n",
    "provided in the technical specifications delimited by \n",
    "triple backticks.\n",
    "\n",
    "Technical specifications: ```{text}```\n",
    "\"\"\"\n",
    "response = get_completion(prompt)\n",
    "print(response)\n"
   ]
  },
  {
   "cell_type": "markdown",
   "id": "2638143d-b41c-44e8-ac44-dbae9393774b",
   "metadata": {},
   "source": [
    "## Issue 1: The text is too long \n",
    "- Limit the number of words/sentences/characters."
   ]
  },
  {
   "cell_type": "code",
   "execution_count": 7,
   "id": "f564b98f-d5b5-4ec2-b5b9-0452052cb048",
   "metadata": {},
   "outputs": [
    {
     "name": "stdout",
     "output_type": "stream",
     "text": [
      "دستگاه تصفیه هوای هوشمند شیائومی 4 پرو با طراحی مینیمال و فیلتر مخصوص شیائومی، هوای محیط را در زمانی کوتاه تصفیه می‌کند. دارای نمایشگر، وای‌فای داخلی، اتصال به اپلیکیشن، عمر مفید 12 ماهه فیلتر و تنظیم سرعت خودکار تصفیه هوا است. مناسب برای محیط‌هایی با مساحت بین ۵۶.۱ تا ۶۴ متر‌مربع و وزن بین ۴ تا ۷ کیلوگرم.\n"
     ]
    }
   ],
   "source": [
    "prompt = f\"\"\"\n",
    "Your task is to help a marketing team create a \n",
    "description for a retail website of a product based \n",
    "on a technical fact sheet.\n",
    "\n",
    "Write a product description in Persian based on the information \n",
    "provided in the technical specifications delimited by \n",
    "triple backticks.\n",
    "\n",
    "Use at most 50 words.\n",
    "\n",
    "Technical specifications: ```{text}```\n",
    "\"\"\"\n",
    "response = get_completion(prompt)\n",
    "print(response)\n"
   ]
  },
  {
   "cell_type": "code",
   "execution_count": 10,
   "id": "f5a0cce4-48db-4ff8-a111-a879d6b6c9c0",
   "metadata": {},
   "outputs": [
    {
     "data": {
      "text/plain": [
       "58"
      ]
     },
     "execution_count": 10,
     "metadata": {},
     "output_type": "execute_result"
    }
   ],
   "source": [
    "len(response.split(\" \"))"
   ]
  },
  {
   "cell_type": "markdown",
   "id": "ee674a62-a7a7-4989-aa23-646eda2d7674",
   "metadata": {},
   "source": [
    "## Issue 2. Text focuses on the wrong details\n",
    "- Ask it to focus on the aspects that are relevant to the intended audience."
   ]
  },
  {
   "cell_type": "code",
   "execution_count": 11,
   "id": "051d594a-b6c1-4383-96e6-b6b6743e43fb",
   "metadata": {},
   "outputs": [
    {
     "name": "stdout",
     "output_type": "stream",
     "text": [
      "دستگاه تصفیه هوای هوشمند شیائومی Smart Air Purifier 4 Pro با سیستم فیلتر مخصوص شیائومی و عملکرد 360 درجه، هوای محیط را در زمانی کوتاه تصفیه می‌کند. دارای نمایشگر، وای‌فای داخلی، اتصال به اپلیکیشن، عمر مفید 12 ماهه فیلتر و تنظیم سرعت خودکار تصفیه هوا است. با حجم خروجی ۵۰۰ متر مکعب بر ساعت، مناسب برای یک اتاق نشیمن تقریباً ۴۰ متر مربع تا ۶۰ متر مربع است.\n"
     ]
    }
   ],
   "source": [
    "prompt = f\"\"\"\n",
    "Your task is to help a marketing team create a \n",
    "description for a retail website of a product based \n",
    "on a technical fact sheet.\n",
    "\n",
    "Write a product description in Persian based on the information \n",
    "provided in the technical specifications delimited by \n",
    "triple backticks.\n",
    "\n",
    "The description is intended for air purifier retailers, \n",
    "so should be technical in nature and focus on the \n",
    "techincal aspects of the product.\n",
    "\n",
    "Use at most 50 words.\n",
    "\n",
    "Technical specifications: ```{text}```\n",
    "\"\"\"\n",
    "response = get_completion(prompt)\n",
    "print(response)"
   ]
  },
  {
   "cell_type": "code",
   "execution_count": 14,
   "id": "afe5b3ae-483a-41ad-bda2-09a2966c40c3",
   "metadata": {},
   "outputs": [
    {
     "name": "stdout",
     "output_type": "stream",
     "text": [
      "Introducing our mid-century inspired office chair, perfect for home or business settings. With a range of shell colors and base finishes, and the option of plastic or full upholstery, this chair is both stylish and comfortable. Constructed with a 5-wheel plastic coated aluminum base and pneumatic chair adjust, it's also practical. Available with or without armrests and suitable for contract use. Product ID: SWC-100, SWC-110.\n"
     ]
    }
   ],
   "source": [
    "fact_sheet_chair = \"\"\"\n",
    "OVERVIEW\n",
    "- Part of a beautiful family of mid-century inspired office furniture, \n",
    "including filing cabinets, desks, bookcases, meeting tables, and more.\n",
    "- Several options of shell color and base finishes.\n",
    "- Available with plastic back and front upholstery (SWC-100) \n",
    "or full upholstery (SWC-110) in 10 fabric and 6 leather options.\n",
    "- Base finish options are: stainless steel, matte black, \n",
    "gloss white, or chrome.\n",
    "- Chair is available with or without armrests.\n",
    "- Suitable for home or business settings.\n",
    "- Qualified for contract use.\n",
    "\n",
    "CONSTRUCTION\n",
    "- 5-wheel plastic coated aluminum base.\n",
    "- Pneumatic chair adjust for easy raise/lower action.\n",
    "\n",
    "DIMENSIONS\n",
    "- WIDTH 53 CM | 20.87”\n",
    "- DEPTH 51 CM | 20.08”\n",
    "- HEIGHT 80 CM | 31.50”\n",
    "- SEAT HEIGHT 44 CM | 17.32”\n",
    "- SEAT DEPTH 41 CM | 16.14”\n",
    "\n",
    "OPTIONS\n",
    "- Soft or hard-floor caster options.\n",
    "- Two choices of seat foam densities: \n",
    " medium (1.8 lb/ft3) or high (2.8 lb/ft3)\n",
    "- Armless or 8 position PU armrests \n",
    "\n",
    "MATERIALS\n",
    "SHELL BASE GLIDER\n",
    "- Cast Aluminum with modified nylon PA6/PA66 coating.\n",
    "- Shell thickness: 10 mm.\n",
    "SEAT\n",
    "- HD36 foam\n",
    "\n",
    "COUNTRY OF ORIGIN\n",
    "- Italy\n",
    "\"\"\"\n",
    "\n",
    "prompt = f\"\"\"\n",
    "Your task is to help a marketing team create a \n",
    "description for a retail website of a product based \n",
    "on a technical fact sheet.\n",
    "\n",
    "Write a product description based on the information \n",
    "provided in the technical specifications delimited by \n",
    "triple backticks.\n",
    "\n",
    "The description is intended for furniture retailers, \n",
    "so should be technical in nature and focus on the \n",
    "materials the product is constructed from.\n",
    "\n",
    "At the end of the description, include every 7-character \n",
    "Product ID in the technical specification.\n",
    "\n",
    "Use at most 50 words.\n",
    "\n",
    "Technical specifications: ```{fact_sheet_chair}```\n",
    "\"\"\"\n",
    "response = get_completion(prompt)\n",
    "print(response)"
   ]
  },
  {
   "cell_type": "markdown",
   "id": "69b75715-cfcd-4426-9027-77567f5200d8",
   "metadata": {},
   "source": [
    "## Issue 3. Description needs a table of dimensions\n",
    "- Ask it to extract information and organize it in a table."
   ]
  },
  {
   "cell_type": "code",
   "execution_count": 15,
   "id": "eb51c52e-c517-4f21-b4d7-57c7e7be4605",
   "metadata": {},
   "outputs": [
    {
     "name": "stdout",
     "output_type": "stream",
     "text": [
      "<div>\n",
      "<h2>Mid-Century Inspired Office Chair</h2>\n",
      "<p>Introducing our mid-century inspired office chair, part of a beautiful family of office furniture that includes filing cabinets, desks, bookcases, meeting tables, and more. This chair is available in several options of shell color and base finishes, allowing you to customize it to your liking. You can choose between plastic back and front upholstery or full upholstery in 10 fabric and 6 leather options. The base finish options are stainless steel, matte black, gloss white, or chrome. The chair is also available with or without armrests, making it suitable for both home and business settings. Plus, it's qualified for contract use, ensuring its durability and longevity.</p>\n",
      "<p>The chair's construction features a 5-wheel plastic coated aluminum base and a pneumatic chair adjust for easy raise/lower action. You can also choose between soft or hard-floor caster options and two choices of seat foam densities: medium (1.8 lb/ft3) or high (2.8 lb/ft3). The armrests are also customizable, with the option of armless or 8 position PU armrests.</p>\n",
      "<p>The chair's shell base glider is made of cast aluminum with modified nylon PA6/PA66 coating, with a shell thickness of 10 mm. The seat is made of HD36 foam, ensuring comfort and support during long work hours. This chair is made in Italy, ensuring its quality and craftsmanship.</p>\n",
      "<h3>Product ID(s): SWC-100, SWC-110</h3>\n",
      "<table>\n",
      "  <caption>Product Dimensions</caption>\n",
      "  <tr>\n",
      "    <th>Width</th>\n",
      "    <td>53 cm | 20.87\"</td>\n",
      "  </tr>\n",
      "  <tr>\n",
      "    <th>Depth</th>\n",
      "    <td>51 cm | 20.08\"</td>\n",
      "  </tr>\n",
      "  <tr>\n",
      "    <th>Height</th>\n",
      "    <td>80 cm | 31.50\"</td>\n",
      "  </tr>\n",
      "  <tr>\n",
      "    <th>Seat Height</th>\n",
      "    <td>44 cm | 17.32\"</td>\n",
      "  </tr>\n",
      "  <tr>\n",
      "    <th>Seat Depth</th>\n",
      "    <td>41 cm | 16.14\"</td>\n",
      "  </tr>\n",
      "</table>\n",
      "</div>\n"
     ]
    }
   ],
   "source": [
    "prompt = f\"\"\"\n",
    "Your task is to help a marketing team create a \n",
    "description for a retail website of a product based \n",
    "on a technical fact sheet.\n",
    "\n",
    "Write a product description based on the information \n",
    "provided in the technical specifications delimited by \n",
    "triple backticks.\n",
    "\n",
    "The description is intended for furniture retailers, \n",
    "so should be technical in nature and focus on the \n",
    "materials the product is constructed from.\n",
    "\n",
    "At the end of the description, include every 7-character \n",
    "Product ID in the technical specification.\n",
    "\n",
    "After the description, include a table that gives the \n",
    "product's dimensions. The table should have two columns.\n",
    "In the first column include the name of the dimension. \n",
    "In the second column include the measurements in inches only.\n",
    "\n",
    "Give the table the title 'Product Dimensions'.\n",
    "\n",
    "Format everything as HTML that can be used in a website. \n",
    "Place the description in a <div> element.\n",
    "\n",
    "Technical specifications: ```{fact_sheet_chair}```\n",
    "\"\"\"\n",
    "\n",
    "response = get_completion(prompt)\n",
    "print(response)"
   ]
  },
  {
   "cell_type": "markdown",
   "id": "c5ba3ef7-8b06-4133-91ae-64053a6d81ba",
   "metadata": {},
   "source": [
    "## Load Python libraries to view HTML"
   ]
  },
  {
   "cell_type": "code",
   "execution_count": 16,
   "id": "bf3d1573-5a56-4e40-a977-7241c1e1ad59",
   "metadata": {},
   "outputs": [
    {
     "data": {
      "text/html": [
       "<div>\n",
       "<h2>Mid-Century Inspired Office Chair</h2>\n",
       "<p>Introducing our mid-century inspired office chair, part of a beautiful family of office furniture that includes filing cabinets, desks, bookcases, meeting tables, and more. This chair is available in several options of shell color and base finishes, allowing you to customize it to your liking. You can choose between plastic back and front upholstery or full upholstery in 10 fabric and 6 leather options. The base finish options are stainless steel, matte black, gloss white, or chrome. The chair is also available with or without armrests, making it suitable for both home and business settings. Plus, it's qualified for contract use, ensuring its durability and longevity.</p>\n",
       "<p>The chair's construction features a 5-wheel plastic coated aluminum base and a pneumatic chair adjust for easy raise/lower action. You can also choose between soft or hard-floor caster options and two choices of seat foam densities: medium (1.8 lb/ft3) or high (2.8 lb/ft3). The armrests are also customizable, with the option of armless or 8 position PU armrests.</p>\n",
       "<p>The chair's shell base glider is made of cast aluminum with modified nylon PA6/PA66 coating, with a shell thickness of 10 mm. The seat is made of HD36 foam, ensuring comfort and support during long work hours. This chair is made in Italy, ensuring its quality and craftsmanship.</p>\n",
       "<h3>Product ID(s): SWC-100, SWC-110</h3>\n",
       "<table>\n",
       "  <caption>Product Dimensions</caption>\n",
       "  <tr>\n",
       "    <th>Width</th>\n",
       "    <td>53 cm | 20.87\"</td>\n",
       "  </tr>\n",
       "  <tr>\n",
       "    <th>Depth</th>\n",
       "    <td>51 cm | 20.08\"</td>\n",
       "  </tr>\n",
       "  <tr>\n",
       "    <th>Height</th>\n",
       "    <td>80 cm | 31.50\"</td>\n",
       "  </tr>\n",
       "  <tr>\n",
       "    <th>Seat Height</th>\n",
       "    <td>44 cm | 17.32\"</td>\n",
       "  </tr>\n",
       "  <tr>\n",
       "    <th>Seat Depth</th>\n",
       "    <td>41 cm | 16.14\"</td>\n",
       "  </tr>\n",
       "</table>\n",
       "</div>"
      ],
      "text/plain": [
       "<IPython.core.display.HTML object>"
      ]
     },
     "metadata": {},
     "output_type": "display_data"
    }
   ],
   "source": [
    "from IPython.display import display, HTML\n",
    "display(HTML(response))"
   ]
  }
 ],
 "metadata": {
  "kernelspec": {
   "display_name": "Python 3 (ipykernel)",
   "language": "python",
   "name": "python3"
  },
  "language_info": {
   "codemirror_mode": {
    "name": "ipython",
    "version": 3
   },
   "file_extension": ".py",
   "mimetype": "text/x-python",
   "name": "python",
   "nbconvert_exporter": "python",
   "pygments_lexer": "ipython3",
   "version": "3.8.10"
  }
 },
 "nbformat": 4,
 "nbformat_minor": 5
}
