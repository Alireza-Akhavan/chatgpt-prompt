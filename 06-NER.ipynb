{
 "cells": [
  {
   "cell_type": "markdown",
   "id": "87759a37-1e62-4d96-912a-57d33a0f5346",
   "metadata": {},
   "source": [
    "# Named Entity Recognition\n"
   ]
  },
  {
   "cell_type": "code",
   "execution_count": null,
   "id": "9a207781-a4e5-40ab-acdf-309f4a12a6bd",
   "metadata": {},
   "outputs": [],
   "source": [
    "import openai\n",
    "\n",
    "openai.api_key  = \"sk-...\" # you should copy the secret-key here"
   ]
  },
  {
   "cell_type": "code",
   "execution_count": null,
   "id": "22f59d1d-582b-4e25-8aad-e6f017ef938c",
   "metadata": {},
   "outputs": [],
   "source": [
    "def get_completion(prompt, model=\"gpt-3.5-turbo\", temperature=0): \n",
    "    messages = [{\"role\": \"user\", \"content\": prompt}]\n",
    "    response = openai.ChatCompletion.create(\n",
    "        model=model,\n",
    "        messages=messages,\n",
    "        temperature=temperature, \n",
    "    )\n",
    "    return response.choices[0].message[\"content\"]"
   ]
  },
  {
   "cell_type": "code",
   "execution_count": null,
   "id": "99d38543-dffc-44d2-8b1c-8ff4071c22b0",
   "metadata": {},
   "outputs": [],
   "source": [
    "p = \"\"\"\n",
    "حسن روحانی در دیدار با روحانیون قم در مورد آیت الله رئیسی با شاهروردی دیدار داشته و صحبت کرد.\n",
    "\"\"\"\n",
    "\n",
    "prompt = f\"\"\"\n",
    "Your task is to extract all person names.\n",
    "Original paragraph: ```{p}```\n",
    "\"\"\"\n",
    "response = get_completion(prompt)\n",
    "print(response)"
   ]
  },
  {
   "cell_type": "code",
   "execution_count": null,
   "id": "298e173c-48f7-4ce3-9ba9-b8f1982068a6",
   "metadata": {},
   "outputs": [],
   "source": []
  }
 ],
 "metadata": {
  "kernelspec": {
   "display_name": "Python 3 (ipykernel)",
   "language": "python",
   "name": "python3"
  },
  "language_info": {
   "codemirror_mode": {
    "name": "ipython",
    "version": 3
   },
   "file_extension": ".py",
   "mimetype": "text/x-python",
   "name": "python",
   "nbconvert_exporter": "python",
   "pygments_lexer": "ipython3",
   "version": "3.8.10"
  }
 },
 "nbformat": 4,
 "nbformat_minor": 5
}
